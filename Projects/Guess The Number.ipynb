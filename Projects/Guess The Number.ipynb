{
 "cells": [
  {
   "cell_type": "markdown",
   "metadata": {},
   "source": [
    "# Guess The Number Program\n",
    "\n",
    "**By : Muhammad Kareem**"
   ]
  },
  {
   "cell_type": "markdown",
   "metadata": {},
   "source": [
    "### What we'll be doing \n",
    "\n",
    "In this program we're going to make a very simple number guessing game in which we have a randomly generated number and the user has to guess the number, pretty simple \n",
    "\n",
    "### How are we gonna do that \n",
    "\n",
    "- We're gonna make use of the `random` module, it's a builtin python module that has great methods to choose random values from within a sequence\n",
    "\n",
    "- Use list comprehension to generate 10 numbers\n",
    "\n",
    "- Initialize an infinite `while` loop to take input from user and compare it against the random number, if it matches then we break out of the loop and if it doesn't then we'll continue the loop \n"
   ]
  },
  {
   "cell_type": "markdown",
   "metadata": {},
   "source": [
    "### Writing the program"
   ]
  },
  {
   "cell_type": "code",
   "execution_count": null,
   "metadata": {},
   "outputs": [],
   "source": [
    "# importing required module\n",
    "\n",
    "import random \n",
    "\n",
    "# generating 10 numbers\n",
    "\n",
    "nums = [x for x in range(1,11)]\n",
    "\n",
    "# the choice function picks a random value from an iterable like a list or a tuple or a set\n",
    "\n",
    "correct = random.choice(nums)\n",
    "\n",
    "# running an infinite loop until we find the correct answer\n",
    "\n",
    "while True:\n",
    "    answer = int(input(\"Pick a number between 1 and 10 : \")) # input() returns always a string so we need to convert it to int\n",
    "    if answer == correct:\n",
    "        break\n",
    "\n",
    "print(\"Congrats you've won\")"
   ]
  },
  {
   "cell_type": "markdown",
   "metadata": {},
   "source": [
    "### Ways to inprove the code \n",
    "\n",
    "- Since it has a chance of a user input, a great suggestion would be to add some exception handling in the form of a try and except block \n",
    "\n",
    "- This program has an infinite loop, maybe a more modern way to structure it is to specify a number of trials instead of it being infinite "
   ]
  },
  {
   "cell_type": "markdown",
   "metadata": {},
   "source": [
    "### References\n",
    "\n",
    "- More on the `random` module can be found [here](https://docs.python.org/3/library/random.html)"
   ]
  }
 ],
 "metadata": {
  "kernelspec": {
   "display_name": "Python 3",
   "language": "python",
   "name": "python3"
  },
  "language_info": {
   "codemirror_mode": {
    "name": "ipython",
    "version": 3
   },
   "file_extension": ".py",
   "mimetype": "text/x-python",
   "name": "python",
   "nbconvert_exporter": "python",
   "pygments_lexer": "ipython3",
   "version": "3.7.7"
  }
 },
 "nbformat": 4,
 "nbformat_minor": 4
}
