{
 "cells": [
  {
   "cell_type": "markdown",
   "metadata": {},
   "source": [
<<<<<<< HEAD
    "# Joke Telling Program\n",
    "\n",
    "**By: Muhammad Kareem**\n",
    "\n",
    "In this project we're going to build a program that fetches a random joke from an API and displays it for us.\n",
    "We're gonna be using a cool and super popular module and this project will give you basic idea of how to work with APIs\n",
    "\n",
    "### What we'll be doing\n",
    "\n",
    "The steps to this project are fairly simple and i'll explain each step as we go \n",
    "\n",
    "- Install a module called **requests** that allows us to make HTTP requests to wbsites on the web, we do so using the command `pip install requests`\n",
    "\n",
    "- We'll make a `GET` request to the API endpoint using *requests* anad the headers we'll provide in the request body\n",
    "\n",
    "- After recieving the json response from the API we're gonna parse it for the result we want, don't worry json is like a dictionary in python so it's also key-value pairs\n",
    "\n",
    "- Display the result on the screen and later on i'll suggest few cool ideas to do with it other than displaying it on your terminal "
=======
    "# PROJECT-2 : JOKE TELLING PROGRAM\n",
    "\n",
    "**By : Muhammad Kareem**\n",
    "\n",
    "In this project we're going to use an available public API to create a script that can fetch us a random dad joke with each request we'll make\n",
    "\n",
    "In this program we're going to learn few interesting topics\n",
    "\n",
    "- Requests module : helps us make HTTP requests to websites / any endpoints and recieve a response we can format\n",
    "\n",
    "- API responses : wether it's a string or a json object and how to parse them \n",
    "\n",
    "- An HTTP request body headers and parameters\n",
    "\n",
    "Let's get right into business and decide our workflow for this project "
>>>>>>> ed19a76984aadd9d32586fb5effcc03750ec0165
   ]
  },
  {
   "cell_type": "markdown",
   "metadata": {},
   "source": [
<<<<<<< HEAD
    "### Working example "
=======
    "### What we'll be doing \n",
    "\n",
    "- Firstly we'll import `requests` module after installing it with `pip install requests`\n",
    "\n",
    "- We'll make a `GET` request to the API endpoint we desire including our headers and parameters\n",
    "\n",
    "- We'll recieve an HTTP response which is mostly json for most of the APIs \n",
    "\n",
    "- We'll parse the json for the output we want and ignore some other stuff\n",
    "\n",
    "- We'll format our response and display it to the user "
>>>>>>> ed19a76984aadd9d32586fb5effcc03750ec0165
   ]
  },
  {
   "cell_type": "code",
<<<<<<< HEAD
   "execution_count": 3,
=======
   "execution_count": 16,
>>>>>>> ed19a76984aadd9d32586fb5effcc03750ec0165
   "metadata": {},
   "outputs": [
    {
     "name": "stdout",
     "output_type": "stream",
     "text": [
<<<<<<< HEAD
      "{'id': '99MZvHJJtzd', 'joke': \"Why don't sharks eat clowns?  Because they taste funny.\", 'status': 200}\n"
=======
      "{'id': '0wcFBQfiGBd', 'joke': 'Did you hear the joke about the wandering nun? She was a roman catholic.', 'status': 200}\n"
>>>>>>> ed19a76984aadd9d32586fb5effcc03750ec0165
     ]
    }
   ],
   "source": [
<<<<<<< HEAD
    "# importing requests\n",
    "\n",
    "import requests\n",
    "\n",
    "# specifying the url to make the GET request to \n",
    "\n",
    "url = \"https://icanhazdadjoke.com/\"\n",
    "\n",
    "# specify our headers which help us decide what response to expect\n",
    "\n",
    "headers = {'Accept':'application/json'}\n",
    "\n",
    "# making the GET request to the url with the headers \n",
    "\n",
    "res = requests.get(url,headers=headers)\n",
    "\n",
    "# printing the response as a json object because it's easier to parse \n",
=======
    "# IMporting the requests module\n",
    "\n",
    "import requests\n",
    "\n",
    "# Specifying the endpoint we want to send a GET request to\n",
    "\n",
    "url = \" https://icanhazdadjoke.com/\"\n",
    "\n",
    "# Setting up the headers to only accept json responses\n",
    "\n",
    "headers = {'Accept':'application/json'}\n",
    "\n",
    "# Making our GET request to the url and providing the headers\n",
    "\n",
    "res = requests.get(url,headers=headers)\n",
    "\n",
    "# Calling the json() method on the response so we can structure it as a json object so we access values with their keys\n",
>>>>>>> ed19a76984aadd9d32586fb5effcc03750ec0165
    "\n",
    "print(res.json())"
   ]
  },
  {
   "cell_type": "markdown",
   "metadata": {},
   "source": [
<<<<<<< HEAD
    "Now that you've seen what the response looks like, let's only extract the joke value and print it"
   ]
  },
  {
   "cell_type": "code",
   "execution_count": 4,
   "metadata": {},
   "outputs": [
    {
     "name": "stdout",
     "output_type": "stream",
     "text": [
      "Why don't sharks eat clowns?  Because they taste funny.\n"
     ]
    }
   ],
   "source": [
    "print(res.json()['joke'])"
   ]
  },
  {
   "cell_type": "markdown",
   "metadata": {},
   "source": [
    "json is very easy to work with, let's try and extract the other values returned with the response the same way"
   ]
  },
  {
   "cell_type": "code",
   "execution_count": 5,
   "metadata": {},
   "outputs": [
    {
     "name": "stdout",
     "output_type": "stream",
     "text": [
      "99MZvHJJtzd\n"
     ]
    }
   ],
   "source": [
    "print(res.json()['id'])"
=======
    "### Parsing the response\n",
    "\n",
    "As you saw, the response was a json because that's what we specified in the headers and it's easy to parse json in python since it's very similar to how a dictionary works, we access values with their keys so to format the response nicely we're only going to take the `joke` and assign it to a variable and printing it"
>>>>>>> ed19a76984aadd9d32586fb5effcc03750ec0165
   ]
  },
  {
   "cell_type": "code",
<<<<<<< HEAD
   "execution_count": 7,
=======
   "execution_count": 17,
>>>>>>> ed19a76984aadd9d32586fb5effcc03750ec0165
   "metadata": {},
   "outputs": [
    {
     "name": "stdout",
     "output_type": "stream",
     "text": [
<<<<<<< HEAD
      "200\n"
=======
      "Did you hear the joke about the wandering nun? She was a roman catholic.\n"
>>>>>>> ed19a76984aadd9d32586fb5effcc03750ec0165
     ]
    }
   ],
   "source": [
<<<<<<< HEAD
    "print(res.json()['status'])"
=======
    "joke = res.json()['joke']\n",
    "print(joke)"
>>>>>>> ed19a76984aadd9d32586fb5effcc03750ec0165
   ]
  },
  {
   "cell_type": "markdown",
   "metadata": {},
   "source": [
<<<<<<< HEAD
    "### How to improve this program\n",
    "\n",
    "In general, this is the way to work with any API, you send a GET or POST request to an endpoint and provide headers and sometimes parameters.\n",
    "\n",
    "In similar situations you might need to provide some error handling in case something goes wrong, say you provided the wrong API key or some authentication token so to make our program more maintainable we'll add a an if statement to check the status code of the response"
   ]
  },
  {
   "cell_type": "code",
   "execution_count": 8,
   "metadata": {},
   "outputs": [
    {
     "name": "stdout",
     "output_type": "stream",
     "text": [
      "{'id': '99MZvHJJtzd', 'joke': \"Why don't sharks eat clowns?  Because they taste funny.\", 'status': 200}\n"
     ]
    }
   ],
   "source": [
    "if res.status_code == 200:\n",
    "    print(res.json())\n",
    "else:\n",
    "    print(\"Something went wrong with your request\")"
   ]
  },
  {
   "cell_type": "markdown",
   "metadata": {},
   "source": [
    "You can also make use of APIs in your web apps or GUI apps so it won't be just a boring text on the screen.\n",
    "Another cool idea you can do for your friends is a jokes bot for telegram / reddit / discord or - my personal favorite = an automated discord webhook that regularly makes a request, fetches a joke and sends it into some channel "
   ]
  },
  {
   "cell_type": "markdown",
   "metadata": {},
   "source": [
    "### References\n",
    "\n",
    "The API we used can be found [here](https://icanhazdadjoke.com/api), feel free to explore other endpoints\n",
    "\n",
    "The documentation for the requests module can be found [here](https://requests.readthedocs.io/en/master/), insanely powerful module and super useful "
=======
    "### Quick notes on working with APIs\n",
    "\n",
    "- headers are used for mostly authentication and deciding what response to expect from the server\n",
    "\n",
    "- params or paramters are used to insert queries within the request body, think about google and how we make a `GET` request to retrieve some data about a specific query\n",
    "\n",
    "- Some APIs are public just like this one we used where we didn't have to authenticate to make a request and some require an authentication\n",
    "\n",
    "- Some APIs don't have a **rate limit** which means you can make as many requests as you want, and some have that to moderate users usage of the API without overloading the servers\n",
    "\n",
    "- Common responses are : HTML,JSON,XML,plaintext and others \n",
    "\n",
    "- You can explore this API we just used [here](https://icanhazdadjoke.com/api)"
>>>>>>> ed19a76984aadd9d32586fb5effcc03750ec0165
   ]
  },
  {
   "cell_type": "code",
   "execution_count": null,
   "metadata": {},
   "outputs": [],
   "source": []
  }
 ],
 "metadata": {
  "kernelspec": {
   "display_name": "Python 3",
   "language": "python",
   "name": "python3"
  },
  "language_info": {
   "codemirror_mode": {
    "name": "ipython",
    "version": 3
   },
   "file_extension": ".py",
   "mimetype": "text/x-python",
   "name": "python",
   "nbconvert_exporter": "python",
   "pygments_lexer": "ipython3",
   "version": "3.7.7"
  }
 },
 "nbformat": 4,
 "nbformat_minor": 4
}
